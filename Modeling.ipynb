{
 "cells": [
  {
   "cell_type": "code",
   "execution_count": null,
   "id": "a70a62dd-9df6-438b-916c-7bf7dea63c1f",
   "metadata": {},
   "outputs": [],
   "source": []
  },
  {
   "cell_type": "markdown",
   "id": "bbe894f2-6911-47a3-bc7a-1513fc535b75",
   "metadata": {},
   "source": [
    "## modeling\n",
    "\n",
    "Use different models to find out the best model for tell which subreddit the post belong to"
   ]
  },
  {
   "cell_type": "code",
   "execution_count": 69,
   "id": "5b594d6a-dbcb-4adc-b398-04c0e6e9f32f",
   "metadata": {},
   "outputs": [],
   "source": [
    "import numpy as np\n",
    "import pandas as pd\n",
    "import matplotlib.pyplot as plt\n",
    "from sklearn.feature_extraction.text import CountVectorizer, TfidfVectorizer\n",
    "from sklearn.pipeline import Pipeline\n",
    "from sklearn.linear_model import LogisticRegression, LogisticRegressionCV\n",
    "from sklearn.naive_bayes import MultinomialNB\n",
    "from sklearn.model_selection import train_test_split, GridSearchCV\n",
    "from sklearn.ensemble import RandomForestClassifier, GradientBoostingClassifier, AdaBoostClassifier, VotingClassifier\n",
    "#from sklearn import metrics\n",
    "#from textblob import TextBlob, Word\n",
    "\n",
    "#%matplotlib inline "
   ]
  },
  {
   "cell_type": "code",
   "execution_count": 79,
   "id": "e28c94b6-509d-45e9-aeeb-2a4efc9e1593",
   "metadata": {},
   "outputs": [
    {
     "data": {
      "text/html": [
       "<div>\n",
       "<style scoped>\n",
       "    .dataframe tbody tr th:only-of-type {\n",
       "        vertical-align: middle;\n",
       "    }\n",
       "\n",
       "    .dataframe tbody tr th {\n",
       "        vertical-align: top;\n",
       "    }\n",
       "\n",
       "    .dataframe thead th {\n",
       "        text-align: right;\n",
       "    }\n",
       "</style>\n",
       "<table border=\"1\" class=\"dataframe\">\n",
       "  <thead>\n",
       "    <tr style=\"text-align: right;\">\n",
       "      <th></th>\n",
       "      <th>body</th>\n",
       "      <th>is_college</th>\n",
       "    </tr>\n",
       "  </thead>\n",
       "  <tbody>\n",
       "    <tr>\n",
       "      <th>0</th>\n",
       "      <td>There’s 200 seat in that class rn and literall...</td>\n",
       "      <td>1</td>\n",
       "    </tr>\n",
       "    <tr>\n",
       "      <th>1</th>\n",
       "      <td>I meant whatever your intended major is, try t...</td>\n",
       "      <td>1</td>\n",
       "    </tr>\n",
       "    <tr>\n",
       "      <th>2</th>\n",
       "      <td>Dude did you even apply to any safeties/target...</td>\n",
       "      <td>1</td>\n",
       "    </tr>\n",
       "    <tr>\n",
       "      <th>3</th>\n",
       "      <td>that is SO awful :(( what in the world?? I jus...</td>\n",
       "      <td>1</td>\n",
       "    </tr>\n",
       "    <tr>\n",
       "      <th>4</th>\n",
       "      <td>I have to wait till 9 pm for when my mom get h...</td>\n",
       "      <td>1</td>\n",
       "    </tr>\n",
       "  </tbody>\n",
       "</table>\n",
       "</div>"
      ],
      "text/plain": [
       "                                                body  is_college\n",
       "0  There’s 200 seat in that class rn and literall...           1\n",
       "1  I meant whatever your intended major is, try t...           1\n",
       "2  Dude did you even apply to any safeties/target...           1\n",
       "3  that is SO awful :(( what in the world?? I jus...           1\n",
       "4  I have to wait till 9 pm for when my mom get h...           1"
      ]
     },
     "execution_count": 79,
     "metadata": {},
     "output_type": "execute_result"
    }
   ],
   "source": [
    "# import cleaned comments data from csv\n",
    "df_comments = pd.read_csv('./Data/comments.csv', index_col=0)\n",
    "df_comments.head()"
   ]
  },
  {
   "cell_type": "markdown",
   "id": "783c1744-8d24-42cc-a733-6f13c9d20fe5",
   "metadata": {},
   "source": [
    "### Set X and y"
   ]
  },
  {
   "cell_type": "code",
   "execution_count": 81,
   "id": "b1a44a5f-3132-41e3-8099-fc84d0b79f0a",
   "metadata": {},
   "outputs": [
    {
     "data": {
      "text/plain": [
       "0    0.506703\n",
       "1    0.493297\n",
       "Name: is_college, dtype: float64"
      ]
     },
     "execution_count": 81,
     "metadata": {},
     "output_type": "execute_result"
    }
   ],
   "source": [
    "X = df_comments['body']\n",
    "y = df_comments['is_college']\n",
    "\n",
    "y.value_counts(normalize=True)\n",
    "\n",
    "\n"
   ]
  },
  {
   "cell_type": "markdown",
   "id": "c867fb24-4242-42db-9a19-ade89db3aa1a",
   "metadata": {},
   "source": [
    "\n",
    "The classes are balanced, each is approx 50%\n",
    "\n",
    "Split data into train set and test set"
   ]
  },
  {
   "cell_type": "code",
   "execution_count": 82,
   "id": "d703cfe0-aff4-4999-b62d-76cb75c6f414",
   "metadata": {},
   "outputs": [],
   "source": [
    "#default test size\n",
    "\n",
    "X_train, X_test, y_train, y_test = train_test_split(X, y, stratify=y, random_state=42)"
   ]
  },
  {
   "cell_type": "code",
   "execution_count": 83,
   "id": "ebe8b3d0-a8fa-4389-b2f3-5d240a39c062",
   "metadata": {},
   "outputs": [],
   "source": [
    "# edit stop words\n",
    "from sklearn.feature_extraction import text\n",
    "\n",
    "text.ENGLISH_STOP_WORDS\n",
    "\n",
    "add_stop_words = ['did', 'doe', 'don','just', 'doesn', 'getting', 'going', 'got', 'ha', 'isn', 'wa', 've', 'll']\n",
    "\n",
    "stop_words = text.ENGLISH_STOP_WORDS.union(add_stop_words)"
   ]
  },
  {
   "cell_type": "code",
   "execution_count": 84,
   "id": "bf42d35d-f85c-4d4d-9108-a218d82027ba",
   "metadata": {
    "scrolled": true,
    "tags": []
   },
   "outputs": [
    {
     "data": {
      "text/plain": [
       "frozenset({'a',\n",
       "           'about',\n",
       "           'above',\n",
       "           'across',\n",
       "           'after',\n",
       "           'afterwards',\n",
       "           'again',\n",
       "           'against',\n",
       "           'all',\n",
       "           'almost',\n",
       "           'alone',\n",
       "           'along',\n",
       "           'already',\n",
       "           'also',\n",
       "           'although',\n",
       "           'always',\n",
       "           'am',\n",
       "           'among',\n",
       "           'amongst',\n",
       "           'amoungst',\n",
       "           'amount',\n",
       "           'an',\n",
       "           'and',\n",
       "           'another',\n",
       "           'any',\n",
       "           'anyhow',\n",
       "           'anyone',\n",
       "           'anything',\n",
       "           'anyway',\n",
       "           'anywhere',\n",
       "           'are',\n",
       "           'around',\n",
       "           'as',\n",
       "           'at',\n",
       "           'back',\n",
       "           'be',\n",
       "           'became',\n",
       "           'because',\n",
       "           'become',\n",
       "           'becomes',\n",
       "           'becoming',\n",
       "           'been',\n",
       "           'before',\n",
       "           'beforehand',\n",
       "           'behind',\n",
       "           'being',\n",
       "           'below',\n",
       "           'beside',\n",
       "           'besides',\n",
       "           'between',\n",
       "           'beyond',\n",
       "           'bill',\n",
       "           'both',\n",
       "           'bottom',\n",
       "           'but',\n",
       "           'by',\n",
       "           'call',\n",
       "           'can',\n",
       "           'cannot',\n",
       "           'cant',\n",
       "           'co',\n",
       "           'con',\n",
       "           'could',\n",
       "           'couldnt',\n",
       "           'cry',\n",
       "           'de',\n",
       "           'describe',\n",
       "           'detail',\n",
       "           'did',\n",
       "           'do',\n",
       "           'doe',\n",
       "           'doesn',\n",
       "           'don',\n",
       "           'done',\n",
       "           'down',\n",
       "           'due',\n",
       "           'during',\n",
       "           'each',\n",
       "           'eg',\n",
       "           'eight',\n",
       "           'either',\n",
       "           'eleven',\n",
       "           'else',\n",
       "           'elsewhere',\n",
       "           'empty',\n",
       "           'enough',\n",
       "           'etc',\n",
       "           'even',\n",
       "           'ever',\n",
       "           'every',\n",
       "           'everyone',\n",
       "           'everything',\n",
       "           'everywhere',\n",
       "           'except',\n",
       "           'few',\n",
       "           'fifteen',\n",
       "           'fifty',\n",
       "           'fill',\n",
       "           'find',\n",
       "           'fire',\n",
       "           'first',\n",
       "           'five',\n",
       "           'for',\n",
       "           'former',\n",
       "           'formerly',\n",
       "           'forty',\n",
       "           'found',\n",
       "           'four',\n",
       "           'from',\n",
       "           'front',\n",
       "           'full',\n",
       "           'further',\n",
       "           'get',\n",
       "           'getting',\n",
       "           'give',\n",
       "           'go',\n",
       "           'going',\n",
       "           'got',\n",
       "           'ha',\n",
       "           'had',\n",
       "           'has',\n",
       "           'hasnt',\n",
       "           'have',\n",
       "           'he',\n",
       "           'hence',\n",
       "           'her',\n",
       "           'here',\n",
       "           'hereafter',\n",
       "           'hereby',\n",
       "           'herein',\n",
       "           'hereupon',\n",
       "           'hers',\n",
       "           'herself',\n",
       "           'him',\n",
       "           'himself',\n",
       "           'his',\n",
       "           'how',\n",
       "           'however',\n",
       "           'hundred',\n",
       "           'i',\n",
       "           'ie',\n",
       "           'if',\n",
       "           'in',\n",
       "           'inc',\n",
       "           'indeed',\n",
       "           'interest',\n",
       "           'into',\n",
       "           'is',\n",
       "           'isn',\n",
       "           'it',\n",
       "           'its',\n",
       "           'itself',\n",
       "           'just',\n",
       "           'keep',\n",
       "           'last',\n",
       "           'latter',\n",
       "           'latterly',\n",
       "           'least',\n",
       "           'less',\n",
       "           'll',\n",
       "           'ltd',\n",
       "           'made',\n",
       "           'many',\n",
       "           'may',\n",
       "           'me',\n",
       "           'meanwhile',\n",
       "           'might',\n",
       "           'mill',\n",
       "           'mine',\n",
       "           'more',\n",
       "           'moreover',\n",
       "           'most',\n",
       "           'mostly',\n",
       "           'move',\n",
       "           'much',\n",
       "           'must',\n",
       "           'my',\n",
       "           'myself',\n",
       "           'name',\n",
       "           'namely',\n",
       "           'neither',\n",
       "           'never',\n",
       "           'nevertheless',\n",
       "           'next',\n",
       "           'nine',\n",
       "           'no',\n",
       "           'nobody',\n",
       "           'none',\n",
       "           'noone',\n",
       "           'nor',\n",
       "           'not',\n",
       "           'nothing',\n",
       "           'now',\n",
       "           'nowhere',\n",
       "           'of',\n",
       "           'off',\n",
       "           'often',\n",
       "           'on',\n",
       "           'once',\n",
       "           'one',\n",
       "           'only',\n",
       "           'onto',\n",
       "           'or',\n",
       "           'other',\n",
       "           'others',\n",
       "           'otherwise',\n",
       "           'our',\n",
       "           'ours',\n",
       "           'ourselves',\n",
       "           'out',\n",
       "           'over',\n",
       "           'own',\n",
       "           'part',\n",
       "           'per',\n",
       "           'perhaps',\n",
       "           'please',\n",
       "           'put',\n",
       "           'rather',\n",
       "           're',\n",
       "           'same',\n",
       "           'see',\n",
       "           'seem',\n",
       "           'seemed',\n",
       "           'seeming',\n",
       "           'seems',\n",
       "           'serious',\n",
       "           'several',\n",
       "           'she',\n",
       "           'should',\n",
       "           'show',\n",
       "           'side',\n",
       "           'since',\n",
       "           'sincere',\n",
       "           'six',\n",
       "           'sixty',\n",
       "           'so',\n",
       "           'some',\n",
       "           'somehow',\n",
       "           'someone',\n",
       "           'something',\n",
       "           'sometime',\n",
       "           'sometimes',\n",
       "           'somewhere',\n",
       "           'still',\n",
       "           'such',\n",
       "           'system',\n",
       "           'take',\n",
       "           'ten',\n",
       "           'than',\n",
       "           'that',\n",
       "           'the',\n",
       "           'their',\n",
       "           'them',\n",
       "           'themselves',\n",
       "           'then',\n",
       "           'thence',\n",
       "           'there',\n",
       "           'thereafter',\n",
       "           'thereby',\n",
       "           'therefore',\n",
       "           'therein',\n",
       "           'thereupon',\n",
       "           'these',\n",
       "           'they',\n",
       "           'thick',\n",
       "           'thin',\n",
       "           'third',\n",
       "           'this',\n",
       "           'those',\n",
       "           'though',\n",
       "           'three',\n",
       "           'through',\n",
       "           'throughout',\n",
       "           'thru',\n",
       "           'thus',\n",
       "           'to',\n",
       "           'together',\n",
       "           'too',\n",
       "           'top',\n",
       "           'toward',\n",
       "           'towards',\n",
       "           'twelve',\n",
       "           'twenty',\n",
       "           'two',\n",
       "           'un',\n",
       "           'under',\n",
       "           'until',\n",
       "           'up',\n",
       "           'upon',\n",
       "           'us',\n",
       "           've',\n",
       "           'very',\n",
       "           'via',\n",
       "           'wa',\n",
       "           'was',\n",
       "           'we',\n",
       "           'well',\n",
       "           'were',\n",
       "           'what',\n",
       "           'whatever',\n",
       "           'when',\n",
       "           'whence',\n",
       "           'whenever',\n",
       "           'where',\n",
       "           'whereafter',\n",
       "           'whereas',\n",
       "           'whereby',\n",
       "           'wherein',\n",
       "           'whereupon',\n",
       "           'wherever',\n",
       "           'whether',\n",
       "           'which',\n",
       "           'while',\n",
       "           'whither',\n",
       "           'who',\n",
       "           'whoever',\n",
       "           'whole',\n",
       "           'whom',\n",
       "           'whose',\n",
       "           'why',\n",
       "           'will',\n",
       "           'with',\n",
       "           'within',\n",
       "           'without',\n",
       "           'would',\n",
       "           'yet',\n",
       "           'you',\n",
       "           'your',\n",
       "           'yours',\n",
       "           'yourself',\n",
       "           'yourselves'})"
      ]
     },
     "execution_count": 84,
     "metadata": {},
     "output_type": "execute_result"
    }
   ],
   "source": [
    "stop_words"
   ]
  },
  {
   "cell_type": "markdown",
   "id": "024a5ec9-d166-42d9-aeea-322ee148d2bd",
   "metadata": {},
   "source": [
    "### Model:  CountVectorizer and LogisticRegression\n",
    "                        "
   ]
  },
  {
   "cell_type": "code",
   "execution_count": 85,
   "id": "b90e37f7-792a-4c94-89b8-6d1a922e1aed",
   "metadata": {},
   "outputs": [],
   "source": [
    "# using standard stop words = \"english\"\n",
    "# using CountVectorizer and LogisticRegression\n",
    "\n",
    "cvec = CountVectorizer(stop_words = \"english\")\n",
    "                       \n",
    "lr = LogisticRegressionCV(solver = 'liblinear')\n",
    "\n",
    "pipe = Pipeline([\n",
    "    ('cvec', cvec),\n",
    "    ('lr', lr)\n",
    "])"
   ]
  },
  {
   "cell_type": "code",
   "execution_count": 86,
   "id": "31aed4f8-e1b3-4913-8fc9-84c23047c165",
   "metadata": {},
   "outputs": [
    {
     "name": "stdout",
     "output_type": "stream",
     "text": [
      "train score: 0.9587345254470426\n",
      "test score: 0.875\n"
     ]
    }
   ],
   "source": [
    "# baseline Logistic model\n",
    "\n",
    "pipe.fit(X_train, y_train)\n",
    "print('train score:', pipe.score(X_train, y_train))\n",
    "print('test score:', pipe.score(X_test, y_test))"
   ]
  },
  {
   "cell_type": "markdown",
   "id": "c0571c83-1297-4407-a873-b399e08f9cef",
   "metadata": {},
   "source": [
    "### model: CountVectorizer and LogisticRegression\n",
    "with additional stop words"
   ]
  },
  {
   "cell_type": "code",
   "execution_count": 87,
   "id": "68302ebc-3466-42ab-b9af-01a4ab7015a9",
   "metadata": {},
   "outputs": [],
   "source": [
    "# using additional stop words\n",
    "# using CountVectorizer and LogisticRegression\n",
    "\n",
    "cvec = CountVectorizer(stop_words = stop_words)\n",
    "\n",
    "lr = LogisticRegressionCV(solver = 'liblinear') \n",
    "\n",
    "pipe = Pipeline([\n",
    "    ('cvec', cvec),\n",
    "    ('lr', lr)\n",
    "])"
   ]
  },
  {
   "cell_type": "code",
   "execution_count": 88,
   "id": "9b381383-5fbe-4610-a87b-f400a507c3a7",
   "metadata": {},
   "outputs": [
    {
     "name": "stdout",
     "output_type": "stream",
     "text": [
      "train score: 0.9679046309032554\n",
      "test score: 0.875\n"
     ]
    }
   ],
   "source": [
    "pipe.fit(X_train, y_train)\n",
    "print('train score:', pipe.score(X_train, y_train))\n",
    "print('test score:', pipe.score(X_test, y_test))"
   ]
  },
  {
   "cell_type": "code",
   "execution_count": null,
   "id": "d78c1840-47f5-4386-986a-2eef943ad2a6",
   "metadata": {},
   "outputs": [],
   "source": []
  },
  {
   "cell_type": "markdown",
   "id": "d8223fd0-7f4b-410b-a607-f71660e5a6de",
   "metadata": {},
   "source": [
    "### Model: CountVectorizer and RandomForestClassifier"
   ]
  },
  {
   "cell_type": "code",
   "execution_count": 94,
   "id": "30cb380d-cf7c-41df-a132-457b3e07e147",
   "metadata": {},
   "outputs": [
    {
     "name": "stdout",
     "output_type": "stream",
     "text": [
      "train score: 0.9917469050894085\n",
      "test score: 0.8255494505494505\n"
     ]
    }
   ],
   "source": [
    "# using standard stop words = \"english\"\n",
    "# using CountVectorizer and random forest\n",
    "\n",
    "cvec = CountVectorizer( stop_words = stop_words, \n",
    "                         max_features = 10000)\n",
    "rf = RandomForestClassifier(random_state = 42)\n",
    "\n",
    "pipe = Pipeline([\n",
    "    ('cvec', cvec),\n",
    "    ('rf', rf)\n",
    "])\n",
    "\n",
    "pipe.fit(X_train, y_train)\n",
    "print('train score:', pipe.score(X_train, y_train))\n",
    "print('test score:', pipe.score(X_test, y_test))"
   ]
  },
  {
   "cell_type": "markdown",
   "id": "0abea5bd-1a0f-453c-9f93-a83f96bc8056",
   "metadata": {},
   "source": [
    "### Model: TfidfVectorizer and LogisticRegressionCV"
   ]
  },
  {
   "cell_type": "code",
   "execution_count": 97,
   "id": "0782f0cc-090e-455d-a5e3-7970b8612fc7",
   "metadata": {},
   "outputs": [],
   "source": [
    "# tfidf using \"english\" stop words, \n",
    "\n",
    "tfidf = TfidfVectorizer( stop_words = stop_words, \n",
    "                     max_features = 10000)\n",
    "\n",
    "lr = LogisticRegressionCV(solver = 'liblinear') \n",
    "\n",
    "pipe = Pipeline([\n",
    "    ('tf', tfidf),\n",
    "    ('lr', lr)\n",
    "])"
   ]
  },
  {
   "cell_type": "code",
   "execution_count": 98,
   "id": "4319cf3d-3819-4473-8f74-95de407c1868",
   "metadata": {},
   "outputs": [
    {
     "name": "stdout",
     "output_type": "stream",
     "text": [
      "train score: 0.974782209995415\n",
      "test score: 0.8873626373626373\n"
     ]
    }
   ],
   "source": [
    "pipe.fit(X_train, y_train)\n",
    "print('train score:', pipe.score(X_train, y_train))\n",
    "print('test score:', pipe.score(X_test, y_test))"
   ]
  },
  {
   "cell_type": "markdown",
   "id": "9c087755-a791-4e75-a98b-171c042a224c",
   "metadata": {},
   "source": [
    "### Model：TfidfVectorizer with RandomForestClassifier"
   ]
  },
  {
   "cell_type": "code",
   "execution_count": 99,
   "id": "bb3495f3-74b8-487e-ba10-cce147baa45b",
   "metadata": {},
   "outputs": [
    {
     "name": "stdout",
     "output_type": "stream",
     "text": [
      "train score: 0.9917469050894085\n",
      "test score: 0.8214285714285714\n"
     ]
    }
   ],
   "source": [
    "tfidf = TfidfVectorizer(analyzer = \"word\", \n",
    "                     stop_words = stop_words, \n",
    "                     max_features = 10000)\n",
    "\n",
    "rf = RandomForestClassifier(random_state = 42)\n",
    "\n",
    "pipe = Pipeline([\n",
    "    ('tf', tfidf),\n",
    "    ('rf', rf)\n",
    "])\n",
    "\n",
    "pipe.fit(X_train, y_train)\n",
    "print('train score:', pipe.score(X_train, y_train))\n",
    "print('test score:', pipe.score(X_test, y_test))"
   ]
  },
  {
   "cell_type": "markdown",
   "id": "cbb26ed0-09c8-478e-a5ea-336707a2ce0f",
   "metadata": {},
   "source": [
    "### Model: CountVectorizer and MultinomialNB"
   ]
  },
  {
   "cell_type": "code",
   "execution_count": 100,
   "id": "23b90af4-8249-4989-a300-daf34313c303",
   "metadata": {},
   "outputs": [
    {
     "data": {
      "text/plain": [
       "(0.9504814305364512, 0.9107142857142857)"
      ]
     },
     "execution_count": 100,
     "metadata": {},
     "output_type": "execute_result"
    }
   ],
   "source": [
    "# CountVectorizer and MultinomialNB\n",
    "\n",
    "pipe_cv_mnb = Pipeline([\n",
    "    ('cv', CountVectorizer(stop_words = stop_words)),\n",
    "    ('mnb', MultinomialNB())\n",
    "])\n",
    "\n",
    "pipe_cv_mnb.fit(X_train, y_train)\n",
    "pipe_cv_mnb.score(X_train, y_train), pipe_cv_mnb.score(X_test, y_test)"
   ]
  },
  {
   "cell_type": "markdown",
   "id": "1fe1248e-5a2c-48d2-9b81-9a088d616446",
   "metadata": {},
   "source": [
    "### Model: TfidfVectorizer and MultinomialNB"
   ]
  },
  {
   "cell_type": "code",
   "execution_count": 103,
   "id": "6ddbcfd2-6f5c-4f18-a87e-aece1ce68d60",
   "metadata": {},
   "outputs": [
    {
     "name": "stdout",
     "output_type": "stream",
     "text": [
      "0.9637780834479597 0.9107142857142857\n"
     ]
    }
   ],
   "source": [
    "pipe_tf_mnb = Pipeline([\n",
    "    ('tf', TfidfVectorizer(stop_words = stop_words)),\n",
    "    ('mnb', MultinomialNB())\n",
    "])\n",
    "\n",
    "pipe_tf_mnb.fit(X_train, y_train)\n",
    "print(pipe_tf_mnb.score(X_train, y_train), pipe_tf_mnb.score(X_test, y_test))\n"
   ]
  },
  {
   "cell_type": "markdown",
   "id": "2a946bc6-15da-4588-8e27-d16a93b9a03b",
   "metadata": {},
   "source": [
    "### Model compare\n",
    "\n",
    "CountVectorizer and LogisticRegression\n",
    "train score: 0.9679046309032554test score: 0.875\n",
    "\n",
    "CountVectorizer and RandomForestClassifie\n",
    "train score: 0.9917469050894085test score: 0.8255494505494505\n",
    "\n",
    "TfidfVectorizer and LogisticRegressionCV\n",
    "train score: 0.974782209995415    test score: 0.8873626373626373\n",
    "\n",
    "TfidfVectorizer with RandomForestClassifier\n",
    "train score: 0.9917469050894085   test score: 0.8214285714285714\n",
    "\n",
    "CountVectorizer and MultinomialNB\n",
    "(0.9504814305364512, 0.9107142857142857)\n",
    "\n",
    "TfidfVectorizer and MultinomialNB\n",
    "0.9637780834479597 0.9107142857142857\n",
    "\n",
    "**models wiht MultinomialNB perform best on test dataset**\n"
   ]
  },
  {
   "cell_type": "code",
   "execution_count": null,
   "id": "6e27c74e-880e-4b61-9749-018c4ef1cad0",
   "metadata": {},
   "outputs": [],
   "source": []
  }
 ],
 "metadata": {
  "kernelspec": {
   "display_name": "Python 3 (ipykernel)",
   "language": "python",
   "name": "python3"
  },
  "language_info": {
   "codemirror_mode": {
    "name": "ipython",
    "version": 3
   },
   "file_extension": ".py",
   "mimetype": "text/x-python",
   "name": "python",
   "nbconvert_exporter": "python",
   "pygments_lexer": "ipython3",
   "version": "3.9.7"
  }
 },
 "nbformat": 4,
 "nbformat_minor": 5
}
