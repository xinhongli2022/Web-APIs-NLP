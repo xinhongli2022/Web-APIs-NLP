{
 "cells": [
  {
   "cell_type": "markdown",
   "id": "b50324c2-276a-4443-a3c2-136c19996ffa",
   "metadata": {},
   "source": [
    "## Data collecting\n",
    "\n",
    "This is the first part of project 3\n",
    "\n",
    "Collecting comments from subreddit r/AppiToCollege, r/gardening"
   ]
  },
  {
   "cell_type": "raw",
   "id": "57fe5744-b1c1-4c70-a2a9-68b8cdd68e90",
   "metadata": {},
   "source": [
    "import requests\n",
    "\n",
    "import pandas as pd\n",
    "import time"
   ]
  },
  {
   "cell_type": "code",
   "execution_count": 52,
   "id": "91e8b2eb-0341-4aaa-981f-76f7b33dfcc3",
   "metadata": {},
   "outputs": [],
   "source": [
    "url = 'https://api.pushshift.io/reddit/search/submission'\n",
    "url_comments = 'https://api.pushshift.io/reddit/search/comment'"
   ]
  },
  {
   "cell_type": "markdown",
   "id": "aa917939-9a2c-4a2f-9594-4d47cce6045a",
   "metadata": {},
   "source": [
    "\n",
    "We want to get 500 post each time, but now reddit only allow 100 each time\n",
    "\n",
    "Function to get comments from certain subreddit, create DataFrame using some of the information from comments, 'body' contains the content of the comment, we will be working that content"
   ]
  },
  {
   "cell_type": "code",
   "execution_count": 53,
   "id": "63a9f114-c316-4440-bf00-f21bc7bdada5",
   "metadata": {},
   "outputs": [],
   "source": [
    "# get comments from subreddit\n",
    "\n",
    "def get_comments(subreddit, n_time):\n",
    "    \n",
    "    df_list = []\n",
    "    current_time = 1648412182\n",
    "    \n",
    "    for _ in range(n_time):\n",
    "        res = requests.get(\n",
    "            url_comments,\n",
    "            params={\n",
    "                \"subreddit\": subreddit,\n",
    "                \"size\": 500,\n",
    "                \"before\": current_time\n",
    "            }\n",
    "        )\n",
    "        time.sleep(3)\n",
    "        df = pd.DataFrame(res.json()['data'])\n",
    "        df = df.loc[:, [\"subreddit\", \"body\", \"created_utc\"]]\n",
    "        df_list.append(df)\n",
    "        current_time = df.created_utc.min()\n",
    "        \n",
    "    return pd.concat(df_list, axis=0)"
   ]
  },
  {
   "cell_type": "markdown",
   "id": "e44b2e41-62f2-4f52-9950-cb3f4bc35464",
   "metadata": {},
   "source": [
    "\n",
    "Retrieve comments from r/ApplyToCollege, save to datafile to use later"
   ]
  },
  {
   "cell_type": "code",
   "execution_count": 54,
   "id": "229a0ef8-a20b-4dda-b71c-fa7af7f5c0f9",
   "metadata": {},
   "outputs": [],
   "source": [
    "df_comments_colledge = get_comments('ApplyingToCollege',15)"
   ]
  },
  {
   "cell_type": "code",
   "execution_count": 55,
   "id": "4d699f41-60b2-4dd8-890c-f873afbd3ef4",
   "metadata": {},
   "outputs": [
    {
     "data": {
      "text/plain": [
       "(1475, 3)"
      ]
     },
     "execution_count": 55,
     "metadata": {},
     "output_type": "execute_result"
    }
   ],
   "source": [
    "df_comments_colledge.shape"
   ]
  },
  {
   "cell_type": "code",
   "execution_count": 56,
   "id": "79184143-1036-491b-9fa3-8545a26f4588",
   "metadata": {},
   "outputs": [],
   "source": [
    "df_comments_colledge.to_csv('./Data/comments_college.csv')"
   ]
  },
  {
   "cell_type": "markdown",
   "id": "ddaf2dea-ffab-41da-9d18-4cc39c6b5922",
   "metadata": {},
   "source": [
    "\n",
    "Retrieve comments from r/gardening, save to datafile to use later\n"
   ]
  },
  {
   "cell_type": "code",
   "execution_count": 57,
   "id": "22679b19-0e6a-416b-b700-ccbd270c7147",
   "metadata": {},
   "outputs": [],
   "source": [
    "df_comments_gardening = get_comments('gardening', 15)"
   ]
  },
  {
   "cell_type": "code",
   "execution_count": 58,
   "id": "99339281-b354-4886-aebf-224354db84b4",
   "metadata": {},
   "outputs": [
    {
     "data": {
      "text/plain": [
       "(1500, 3)"
      ]
     },
     "execution_count": 58,
     "metadata": {},
     "output_type": "execute_result"
    }
   ],
   "source": [
    "df_comments_gardening.shape"
   ]
  },
  {
   "cell_type": "code",
   "execution_count": 59,
   "id": "7dd34012-d736-460a-af81-6ed7e7d841b0",
   "metadata": {},
   "outputs": [],
   "source": [
    "df_comments_gardening.to_csv('./Data/comments_gardening.csv')"
   ]
  },
  {
   "cell_type": "markdown",
   "id": "3f00cf07-bfde-4650-a13c-2935a76fe629",
   "metadata": {},
   "source": [
    "\n",
    "peek comments from 2 subreddits "
   ]
  },
  {
   "cell_type": "code",
   "execution_count": 60,
   "id": "0eac0797-68f7-4cde-bbe1-d022882931b8",
   "metadata": {},
   "outputs": [
    {
     "data": {
      "text/html": [
       "<div>\n",
       "<style scoped>\n",
       "    .dataframe tbody tr th:only-of-type {\n",
       "        vertical-align: middle;\n",
       "    }\n",
       "\n",
       "    .dataframe tbody tr th {\n",
       "        vertical-align: top;\n",
       "    }\n",
       "\n",
       "    .dataframe thead th {\n",
       "        text-align: right;\n",
       "    }\n",
       "</style>\n",
       "<table border=\"1\" class=\"dataframe\">\n",
       "  <thead>\n",
       "    <tr style=\"text-align: right;\">\n",
       "      <th></th>\n",
       "      <th>subreddit</th>\n",
       "      <th>body</th>\n",
       "      <th>created_utc</th>\n",
       "    </tr>\n",
       "  </thead>\n",
       "  <tbody>\n",
       "    <tr>\n",
       "      <th>0</th>\n",
       "      <td>ApplyingToCollege</td>\n",
       "      <td>There’s 200 seats in that class rn and literal...</td>\n",
       "      <td>1648412159</td>\n",
       "    </tr>\n",
       "    <tr>\n",
       "      <th>1</th>\n",
       "      <td>ApplyingToCollege</td>\n",
       "      <td>I meant whatever your intended major is, try t...</td>\n",
       "      <td>1648412154</td>\n",
       "    </tr>\n",
       "    <tr>\n",
       "      <th>2</th>\n",
       "      <td>ApplyingToCollege</td>\n",
       "      <td>Dude did you even apply to any safeties/target...</td>\n",
       "      <td>1648412150</td>\n",
       "    </tr>\n",
       "  </tbody>\n",
       "</table>\n",
       "</div>"
      ],
      "text/plain": [
       "           subreddit                                               body  \\\n",
       "0  ApplyingToCollege  There’s 200 seats in that class rn and literal...   \n",
       "1  ApplyingToCollege  I meant whatever your intended major is, try t...   \n",
       "2  ApplyingToCollege  Dude did you even apply to any safeties/target...   \n",
       "\n",
       "   created_utc  \n",
       "0   1648412159  \n",
       "1   1648412154  \n",
       "2   1648412150  "
      ]
     },
     "execution_count": 60,
     "metadata": {},
     "output_type": "execute_result"
    }
   ],
   "source": [
    "df_comments_colledge.head(3)"
   ]
  },
  {
   "cell_type": "code",
   "execution_count": 61,
   "id": "f55fc9b4-1d81-4194-8d80-aaf20f6eb04c",
   "metadata": {},
   "outputs": [
    {
     "data": {
      "text/html": [
       "<div>\n",
       "<style scoped>\n",
       "    .dataframe tbody tr th:only-of-type {\n",
       "        vertical-align: middle;\n",
       "    }\n",
       "\n",
       "    .dataframe tbody tr th {\n",
       "        vertical-align: top;\n",
       "    }\n",
       "\n",
       "    .dataframe thead th {\n",
       "        text-align: right;\n",
       "    }\n",
       "</style>\n",
       "<table border=\"1\" class=\"dataframe\">\n",
       "  <thead>\n",
       "    <tr style=\"text-align: right;\">\n",
       "      <th></th>\n",
       "      <th>subreddit</th>\n",
       "      <th>body</th>\n",
       "      <th>created_utc</th>\n",
       "    </tr>\n",
       "  </thead>\n",
       "  <tbody>\n",
       "    <tr>\n",
       "      <th>0</th>\n",
       "      <td>gardening</td>\n",
       "      <td>Others probably have mentioned already, but su...</td>\n",
       "      <td>1648412140</td>\n",
       "    </tr>\n",
       "    <tr>\n",
       "      <th>1</th>\n",
       "      <td>gardening</td>\n",
       "      <td>It’s a tropical almond</td>\n",
       "      <td>1648412131</td>\n",
       "    </tr>\n",
       "    <tr>\n",
       "      <th>2</th>\n",
       "      <td>gardening</td>\n",
       "      <td>I do! There is just something about the white ...</td>\n",
       "      <td>1648412122</td>\n",
       "    </tr>\n",
       "  </tbody>\n",
       "</table>\n",
       "</div>"
      ],
      "text/plain": [
       "   subreddit                                               body  created_utc\n",
       "0  gardening  Others probably have mentioned already, but su...   1648412140\n",
       "1  gardening                             It’s a tropical almond   1648412131\n",
       "2  gardening  I do! There is just something about the white ...   1648412122"
      ]
     },
     "execution_count": 61,
     "metadata": {},
     "output_type": "execute_result"
    }
   ],
   "source": [
    "df_comments_gardening.head(3)"
   ]
  },
  {
   "cell_type": "code",
   "execution_count": null,
   "id": "08f7d26c-a240-4733-9c78-7f1f7444b8da",
   "metadata": {},
   "outputs": [],
   "source": []
  }
 ],
 "metadata": {
  "kernelspec": {
   "display_name": "Python 3 (ipykernel)",
   "language": "python",
   "name": "python3"
  },
  "language_info": {
   "codemirror_mode": {
    "name": "ipython",
    "version": 3
   },
   "file_extension": ".py",
   "mimetype": "text/x-python",
   "name": "python",
   "nbconvert_exporter": "python",
   "pygments_lexer": "ipython3",
   "version": "3.9.7"
  }
 },
 "nbformat": 4,
 "nbformat_minor": 5
}
